{
 "cells": [
  {
   "cell_type": "code",
   "execution_count": 1,
   "id": "26cbb345",
   "metadata": {},
   "outputs": [],
   "source": [
    "import requests\n",
    "import pandas as pd\n",
    "from bs4 import BeautifulSoup\n",
    "import numpy as np\n",
    "import re"
   ]
  },
  {
   "cell_type": "code",
   "execution_count": 2,
   "id": "bd949f20",
   "metadata": {},
   "outputs": [],
   "source": [
    "# We test on alabama, before we automate the proces\n",
    "web_url = 'https://www.rentdata.org/states/district-of-columbia/2015'\n",
    "rent_res = requests.get(web_url)"
   ]
  },
  {
   "cell_type": "code",
   "execution_count": 3,
   "id": "bc81001a",
   "metadata": {},
   "outputs": [
    {
     "data": {
      "text/plain": [
       "[<table class=\"hover scroll tablesorter\" id=\"state_table\">\n",
       " <thead>\n",
       " <tr>\n",
       " <th style=\"width: 250px\">County</th>\n",
       " <th><span aria-haspopup=\"true\" class=\"has-tip top\" data-disable-hover=\"false\" data-tooltip=\"\" tabindex=\"7\" title=\"Studio, or efficiency.\">0 BR</span></th>\n",
       " <th>1 BR</th>\n",
       " <th>2 BR</th>\n",
       " <th>3 BR</th>\n",
       " <th><span aria-haspopup=\"true\" class=\"has-tip top\" data-disable-hover=\"false\" data-tooltip=\"\" tabindex=\"9\" title=\"Home or apartment with 4 bedrooms. Add 15% for each additional bedroom.\">4 BR</span></th>\n",
       " <th><span aria-haspopup=\"true\" class=\"has-tip top\" data-disable-hover=\"false\" data-tooltip=\"\" tabindex=\"10\" title=\"Census Bureau Population Estimates\">Est. Population</span></th>\n",
       " </tr>\n",
       " </thead>\n",
       " <tbody>\n",
       " <tr>\n",
       " <td><a href=\"https://www.rentdata.org/washington-arlington-alexandria-dc-va-md-hud-metro-fmr-area/2015\" title=\"Average rent prices in District of Columbia\"><b>District of Columbia</b></a>\n",
       " <abbr title=\"Metropolitan Area\"><span class=\"label info float-right left-spaced\">Metro</span></abbr>\n",
       " </td>\n",
       " <td><span class=\"money\">$1,167</span></td>\n",
       " <td><span class=\"money\">$1,230</span></td>\n",
       " <td><span class=\"money\">$1,458</span></td>\n",
       " <td><span class=\"money\">$1,951</span></td>\n",
       " <td><span class=\"money\">$2,451</span></td>\n",
       " <td>601,723</td>\n",
       " </tr>\n",
       " </tbody>\n",
       " </table>]"
      ]
     },
     "execution_count": 3,
     "metadata": {},
     "output_type": "execute_result"
    }
   ],
   "source": [
    "soup_rent = BeautifulSoup(rent_res.content)\n",
    "rent_table = soup_rent.find_all('table', class_ = 'hover scroll tablesorter')\n",
    "rent_table"
   ]
  },
  {
   "cell_type": "code",
   "execution_count": 4,
   "id": "7aba88db",
   "metadata": {},
   "outputs": [
    {
     "data": {
      "text/plain": [
       "'District of Columbia'"
      ]
     },
     "execution_count": 4,
     "metadata": {},
     "output_type": "execute_result"
    }
   ],
   "source": [
    "# We now want to find all the gattdang counties i tell you hwat \n",
    "county_table = soup_rent.find_all('b')\n",
    "county_table\n",
    "county_list = []\n",
    "for item in county_table:\n",
    "    county_list.append(item.text.strip())\n",
    "state_name = county_list[0]\n",
    "county_list = county_list[3:]\n",
    "state_name"
   ]
  },
  {
   "cell_type": "code",
   "execution_count": 7,
   "id": "ae6ee1a9",
   "metadata": {},
   "outputs": [
    {
     "name": "stdout",
     "output_type": "stream",
     "text": [
      "<span class=\"money\">$1,230</span>\n",
      "<span class=\"money\">$1,458</span>\n",
      "<span class=\"money\">$1,951</span>\n",
      "<span class=\"money\">$2,451</span>\n",
      "['$1,230', '$1,458', '$1,951', '$2,451']\n"
     ]
    },
    {
     "data": {
      "text/plain": [
       "[1230.0, 1458.0, 1951.0, 2451.0]"
      ]
     },
     "execution_count": 7,
     "metadata": {},
     "output_type": "execute_result"
    }
   ],
   "source": [
    "# collect rents for the different types of buildings \n",
    "regex = re.compile('[%s]' % re.escape(\"[-,\\.!?:’]\"))\n",
    "cost_table = soup_rent.find_all('span', class_ = 'money')\n",
    "cost_table = cost_table[5:]\n",
    "cost_table\n",
    "cost_list1 = []\n",
    "cost_list2 = []\n",
    "state_list = []\n",
    "# convert it into str first\n",
    "for item in cost_table:\n",
    "    print(item)\n",
    "    cost_list1.append(item.text.split()[0])\n",
    "    state_list.append(state_name)\n",
    "# remove $, then turn into float \n",
    "for item in cost_list1:\n",
    "    money_text = regex.sub(\"\", item.split('$')[1])\n",
    "    money_float = float(money_text)\n",
    "    cost_list2.append(money_float)\n",
    "print(cost_list1)\n",
    "cost_list2"
   ]
  },
  {
   "cell_type": "code",
   "execution_count": null,
   "id": "638af6cf",
   "metadata": {},
   "outputs": [],
   "source": [
    "# make separate BR lists \n",
    "ind0 = 0\n",
    "ind1 = 1\n",
    "ind2 = 2\n",
    "ind3 = 3\n",
    "ind4 = 4\n",
    "\n",
    "br0 = []\n",
    "br1 = []\n",
    "br2 = []\n",
    "br3 = []\n",
    "br4 = []\n",
    "while ind0 in range(len(cost_list2)):\n",
    "    br0.append(cost_list2[ind0])\n",
    "    br1.append(cost_list2[ind1])\n",
    "    br2.append(cost_list2[ind2])\n",
    "    br3.append(cost_list2[ind3])\n",
    "    br4.append(cost_list2[ind4])\n",
    "    ind0 += 5\n",
    "    ind1 += 5\n",
    "    ind2 += 5\n",
    "    ind3 += 5\n",
    "    ind4 += 5\n",
    "ala_rent_df = pd.DataFrame(list(zip(state_list, county_list, br0, br1, br2, br3, br4)), columns = ['State Name', 'County Name', 'Rent for 0 Bedrooms',\n",
    "                                                                                     'Rent for 1 Bedroom', 'Rent for 2 Bedrooms',\n",
    "                                                                                     'Rent for 3 Bedrooms', 'Rent for 4 Bedrooms'])\n",
    "ala_rent_df.head()"
   ]
  },
  {
   "cell_type": "code",
   "execution_count": null,
   "id": "6a0fe615",
   "metadata": {},
   "outputs": [],
   "source": []
  }
 ],
 "metadata": {
  "kernelspec": {
   "display_name": "Python 3 (ipykernel)",
   "language": "python",
   "name": "python3"
  },
  "language_info": {
   "codemirror_mode": {
    "name": "ipython",
    "version": 3
   },
   "file_extension": ".py",
   "mimetype": "text/x-python",
   "name": "python",
   "nbconvert_exporter": "python",
   "pygments_lexer": "ipython3",
   "version": "3.9.13"
  }
 },
 "nbformat": 4,
 "nbformat_minor": 5
}
